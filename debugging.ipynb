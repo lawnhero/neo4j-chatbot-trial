{
 "cells": [
  {
   "cell_type": "code",
   "execution_count": 7,
   "metadata": {},
   "outputs": [],
   "source": [
    "# tag::importst[]\n",
    "import streamlit as st\n",
    "# end::importst[]\n",
    "# tag::importvector[]\n",
    "from langchain_community.vectorstores.neo4j_vector import Neo4jVector\n",
    "# end::importvector[]\n",
    "# tag::importqa[]\n",
    "from langchain.chains.qa_with_sources import load_qa_with_sources_chain\n",
    "# end::importqa[]\n",
    "# tag::importretrievalqa[]\n",
    "from langchain.chains import RetrievalQA\n",
    "# end::importretrievalqa[]\n",
    "\n",
    "# This file is in the solutions folder to separate the solution\n",
    "# from the starter project code.\n",
    "from llm import llm, embeddings\n",
    "\n",
    "\n"
   ]
  },
  {
   "cell_type": "markdown",
   "metadata": {},
   "source": [
    "# Tool 1: Vector Search Index"
   ]
  },
  {
   "cell_type": "code",
   "execution_count": 16,
   "metadata": {},
   "outputs": [],
   "source": [
    "# tag::vector[]\n",
    "neo4jvector = Neo4jVector.from_existing_index(\n",
    "    embeddings,                              # <1>\n",
    "    url=\"bolt://18.207.204.78:7687\",             # <2>\n",
    "    username=\"neo4j\",   # <3>\n",
    "    password=\"gas-attractions-typists\",   # <4>\n",
    "    index_name=\"moviePlots\",                 # <5>\n",
    "    node_label=\"Movie\",                      # <6>\n",
    "    text_node_property=\"plot\",               # <7>\n",
    "    embedding_node_property=\"plotEmbedding\", # <8>\n",
    "    retrieval_query=\"\"\"\n",
    "RETURN\n",
    "    node.plot AS text,\n",
    "    score,\n",
    "    {\n",
    "        title: node.title,\n",
    "        directors: [ (person)-[:DIRECTED]->(node) | person.name ],\n",
    "        actors: [ (person)-[r:ACTED_IN]->(node) | [person.name, r.role] ],\n",
    "        tmdbId: node.tmdbId,\n",
    "        source: 'https://www.themoviedb.org/movie/'+ node.tmdbId\n",
    "    } AS metadata\n",
    "\"\"\"\n",
    ")\n",
    "# end::vector[]\n",
    "\n",
    "# tag::retriever[]\n",
    "retriever = neo4jvector.as_retriever()\n",
    "# end::retriever[]\n",
    "\n",
    "# tag::qa[]\n",
    "kg_qa = RetrievalQA.from_chain_type(\n",
    "    llm,                  # <1>\n",
    "    chain_type=\"stuff\",   # <2>\n",
    "    retriever=retriever,  # <3>\n",
    "    verbose=True          # <4>\n",
    ")\n",
    "# end::qa[]\n",
    "\n",
    "# tag::generate-response[]\n",
    "def generate_response(prompt):\n",
    "    \"\"\"\n",
    "    Use the Neo4j Vector Search Index\n",
    "    to augment the response from the LLM\n",
    "    \"\"\"\n",
    "\n",
    "    # Handle the response\n",
    "    response = kg_qa.invoke({\"query\": prompt}, verbose=True)\n",
    "\n",
    "    return response['result']\n",
    "# end::generate-response[]"
   ]
  },
  {
   "cell_type": "code",
   "execution_count": 17,
   "metadata": {},
   "outputs": [
    {
     "name": "stdout",
     "output_type": "stream",
     "text": [
      "\n",
      "\n",
      "\u001b[1m> Entering new RetrievalQA chain...\u001b[0m\n",
      "\n",
      "\u001b[1m> Finished chain.\u001b[0m\n",
      "Some movies with similar themes to Toy Story are \"The Lego Movie,\" \"Wreck-It Ralph,\" and \"The Secret Life of Pets.\"\n"
     ]
    }
   ],
   "source": [
    "response = generate_response(\"Which movies have similar plot as Toy Story?\")\n",
    "\n",
    "print(response)"
   ]
  },
  {
   "cell_type": "markdown",
   "metadata": {},
   "source": [
    "## Tool 2 Cyper Query"
   ]
  },
  {
   "cell_type": "code",
   "execution_count": 4,
   "metadata": {},
   "outputs": [],
   "source": [
    "from langchain.chains import GraphCypherQAChain\n",
    "\n",
    "from llm import llm\n",
    "from graph import graph\n",
    "\n",
    "cypher_qa = GraphCypherQAChain.from_llm(\n",
    "    llm,          # (1)\n",
    "    graph=graph,  # (2)\n",
    "    verbose=True  # (3)\n",
    ")"
   ]
  },
  {
   "cell_type": "markdown",
   "metadata": {},
   "source": []
  },
  {
   "cell_type": "code",
   "execution_count": 6,
   "metadata": {},
   "outputs": [
    {
     "name": "stdout",
     "output_type": "stream",
     "text": [
      "\n",
      "\n",
      "\u001b[1m> Entering new GraphCypherQAChain chain...\u001b[0m\n",
      "Generated Cypher:\n",
      "\u001b[32;1m\u001b[1;3mMATCH (:Movie {title: \"Toy Story\"})<-[:ACTED_IN]-(a:Actor)\n",
      "RETURN a.name\u001b[0m\n",
      "Full Context:\n",
      "\u001b[32;1m\u001b[1;3m[{'a.name': 'Jim Varney'}, {'a.name': 'Tim Allen'}, {'a.name': 'Tom Hanks'}, {'a.name': 'Don Rickles'}]\u001b[0m\n",
      "\n",
      "\u001b[1m> Finished chain.\u001b[0m\n"
     ]
    },
    {
     "data": {
      "text/plain": [
       "'Jim Varney, Tim Allen, Tom Hanks, and Don Rickles played in Toy Story.'"
      ]
     },
     "execution_count": 6,
     "metadata": {},
     "output_type": "execute_result"
    }
   ],
   "source": [
    "cypher_qa.invoke(\"Who played in Toy Story?\")[\"result\"]"
   ]
  }
 ],
 "metadata": {
  "kernelspec": {
   "display_name": "Python 3",
   "language": "python",
   "name": "python3"
  },
  "language_info": {
   "codemirror_mode": {
    "name": "ipython",
    "version": 3
   },
   "file_extension": ".py",
   "mimetype": "text/x-python",
   "name": "python",
   "nbconvert_exporter": "python",
   "pygments_lexer": "ipython3",
   "version": "3.11.1"
  }
 },
 "nbformat": 4,
 "nbformat_minor": 2
}
